{
 "cells": [
  {
   "cell_type": "markdown",
   "id": "919e3516",
   "metadata": {},
   "source": [
    "## Информация о месте"
   ]
  },
  {
   "cell_type": "code",
   "execution_count": 1,
   "id": "d72b9874",
   "metadata": {},
   "outputs": [
    {
     "name": "stdout",
     "output_type": "stream",
     "text": [
      "Место\n",
      "Всего: 476.17Gb\n",
      "Использовано: 367.60Gb\n",
      "Свободно: 108.58Gb\n"
     ]
    }
   ],
   "source": [
    "import shutil\n",
    "total, used, free = shutil.disk_usage('/')\n",
    "total = total / 1024 / 1024 / 1024\n",
    "used = used / 1024 / 1024 / 1024\n",
    "free = free / 1024 / 1024 / 1024\n",
    "print(f'Место\\nВсего: {total:.2f}Gb\\nИспользовано: {used:.2f}Gb\\nСвободно: {free:.2f}Gb')"
   ]
  },
  {
   "cell_type": "markdown",
   "id": "3ed5433f",
   "metadata": {},
   "source": [
    "## Работа с простыми файлами"
   ]
  },
  {
   "cell_type": "code",
   "execution_count": 4,
   "id": "85077e9c",
   "metadata": {},
   "outputs": [
    {
     "name": "stdout",
     "output_type": "stream",
     "text": [
      "Что хотите сделать?\n",
      "0 - создать файл\n",
      "1 - записать в файл\n",
      "2 - прочитать из файла\n",
      "3 - удалить файл\n",
      "3\n",
      "Введите путь к вашему файлу > text.txt\n",
      "Success\n"
     ]
    }
   ],
   "source": [
    "import os\n",
    "def simple_file():\n",
    "    action = input('Что хотите сделать?\\n0 - создать файл\\n1 - записать в файл\\n2 - прочитать из файла\\n3 - удалить файл\\n')\n",
    "    path = input('Введите путь к вашему файлу > ')\n",
    "    if action == '0':\n",
    "        if os.path.isfile(path):\n",
    "            print('Файл уже существует, работайте с ним')\n",
    "        else:\n",
    "            with open(path, 'w') as file:\n",
    "                print('Success')\n",
    "    elif action == '1':\n",
    "        if not os.path.isfile(path):\n",
    "            print('Файл автоматически создан')\n",
    "        with open(path, 'w') as file:\n",
    "            file.write(input('Введите что записать в файл > '))\n",
    "    elif action == '2':\n",
    "        if os.path.isfile(path):\n",
    "            with open(path, 'r') as file:\n",
    "                print(file.read())\n",
    "        else:\n",
    "            print('Error: файла не существует, создайте его')\n",
    "    elif action == '3':\n",
    "        if os.path.isfile(path):\n",
    "            os.remove(path)\n",
    "            print('Success')\n",
    "        else:\n",
    "            print('Error: файла не существует')\n",
    "    else:\n",
    "        print('Error: инструкции не существует')\n",
    "simple_file()"
   ]
  },
  {
   "cell_type": "markdown",
   "id": "04c593c1",
   "metadata": {},
   "source": [
    "## Работа с json"
   ]
  },
  {
   "cell_type": "code",
   "execution_count": 43,
   "id": "dfb71efa",
   "metadata": {},
   "outputs": [
    {
     "name": "stdout",
     "output_type": "stream",
     "text": [
      "Что хотите сделать?\n",
      "0 - создать файл\n",
      "1 - записать в файл\n",
      "2 - прочитать из файла\n",
      "3 - удалить файл\n",
      "3\n",
      "Введите путь к вашему файлу > file.txt\n",
      "Success\n"
     ]
    }
   ],
   "source": [
    "import json\n",
    "def json_file():\n",
    "    action = input('Что хотите сделать?\\n0 - создать файл\\n1 - записать в файл\\n2 - прочитать из файла\\n3 - удалить файл\\n')\n",
    "    path = input('Введите путь к вашему файлу > ')\n",
    "    if action == '0':\n",
    "        if os.path.isfile(path):\n",
    "            print('Файл уже существует, работайте с ним')\n",
    "        else:\n",
    "            with open(path, 'w') as file:\n",
    "                print('Success')\n",
    "    elif action == '1':\n",
    "        if not os.path.isfile(path):\n",
    "            print('Файл автоматически создан')\n",
    "        with open(path, 'w') as file:\n",
    "            string = input('Введите что записать в файл > ')\n",
    "            file.write(json.dumps(string))\n",
    "    elif action == '2':\n",
    "        if os.path.isfile(path):\n",
    "            with open(path, 'r') as file:\n",
    "                print(json.loads(file.read()))\n",
    "        else:\n",
    "            print('Error: файла не существует, создайте его')\n",
    "    elif action == '3':\n",
    "        if os.path.isfile(path):\n",
    "            os.remove(path)\n",
    "            print('Success')\n",
    "        else:\n",
    "            print('Error: файла не существует')\n",
    "    else:\n",
    "        print('Error: инструкции не существует')\n",
    "json_file()"
   ]
  },
  {
   "cell_type": "markdown",
   "id": "093f6a8c",
   "metadata": {},
   "source": [
    "## Работа с XML\n",
    "Файлы xml типа:\n",
    "\n",
    "\\<note>\n",
    "\n",
    "\\<to>Oleg\\</to>\n",
    "\n",
    "\\<from>Alex\\</from>\n",
    "\n",
    "\\<heading>Qwerty\\</heading>\n",
    "\n",
    "\\<body>Qwertyuiop\\</body>\n",
    "\n",
    "\\</note>"
   ]
  },
  {
   "cell_type": "code",
   "execution_count": 5,
   "id": "f0e7f688",
   "metadata": {},
   "outputs": [
    {
     "name": "stdout",
     "output_type": "stream",
     "text": [
      "INFO: скрипт работает с файлами отражающими электронное письмо. Поля: to, from, heading, body\n",
      "Что хотите сделать?\n",
      "1 - записать новые данные\n",
      "2 - прочитать из файла\n",
      "3 - удалить файл\n",
      "2\n",
      "Введите путь к вашему файлу > file.xml\n",
      "Error: файла не существует, создайте его в редакторе\n"
     ]
    }
   ],
   "source": [
    "import os\n",
    "import xml.etree.ElementTree as ET\n",
    "\n",
    "\n",
    "def xml_file():\n",
    "    action = input(\n",
    "        'Что хотите сделать?\\n1 - записать новые данные\\n2 - прочитать из файла\\n3 - удалить файл\\n')\n",
    "    path = input('Введите путь к вашему файлу > ')\n",
    "    if action == '1':\n",
    "        if os.path.isfile(path):\n",
    "            tree = ET.parse(path)\n",
    "            root = tree.getroot()\n",
    "            root[0].text = input('To: ')\n",
    "            root[1].text = input('From: ')\n",
    "            root[2].text = input('Heading: ')\n",
    "            root[3].text = input('Body: ')\n",
    "            tree.write(path)\n",
    "        else:\n",
    "            print('Error: файла не существует, создайте его в редакторе')\n",
    "    elif action == '2':\n",
    "        if os.path.isfile(path):\n",
    "            tree = ET.parse(path)\n",
    "            root = tree.getroot()\n",
    "            print(f'To: {root[0].text}\\nFrom: {root[1].text}\\nHeading: {root[2].text}\\nBody: {root[3].text}')\n",
    "        else:\n",
    "            print('Error: файла не существует, создайте его в редакторе')\n",
    "    elif action == '3':\n",
    "        if os.path.isfile(path):\n",
    "            os.remove(path)\n",
    "            print('Success')\n",
    "        else:\n",
    "            print('Error: файла не существует')\n",
    "    else:\n",
    "        print('Error: инструкции не существует')\n",
    "\n",
    "\n",
    "print('INFO: скрипт работает с файлами отражающими электронное письмо. Поля: to, from, heading, body')\n",
    "xml_file()\n"
   ]
  },
  {
   "cell_type": "markdown",
   "id": "efeb7aaf",
   "metadata": {},
   "source": [
    "## Работа с ZIP\n",
    "Внимание: из-за кодировки могут не отображаться русские буквы при чтении разархивированного файла"
   ]
  },
  {
   "cell_type": "code",
   "execution_count": null,
   "id": "63d2c45d",
   "metadata": {},
   "outputs": [],
   "source": [
    "import zipfile as zf\n",
    "import os\n",
    "\n",
    "\n",
    "def zip_file():\n",
    "    action = input(\n",
    "        'Что хотите сделать?\\n0 - создать архив\\n1 - добавить файл в архив\\n2 - разархивировать файл и вывести\\n3 - удалить архив\\n')\n",
    "    if action == '0':\n",
    "        pathzip = input('Введите путь к архиву > ')\n",
    "        if os.path.isfile(pathzip):\n",
    "            print('Файл уже существует, работайте с ним')\n",
    "        else:\n",
    "            with zf.ZipFile(pathzip, 'w') as file:\n",
    "                print('Success')\n",
    "    elif action == '1':\n",
    "        path = input('Введите путь к вашему файлу > ')\n",
    "        pathzip = input('Введите путь к архиву > ')\n",
    "        if not os.path.isfile(path):\n",
    "            with open(path, 'w') as file:\n",
    "                print('Файл автоматически создан')\n",
    "        if not os.path.isfile(pathzip):\n",
    "            with zf.ZipFile(pathzip, 'w') as zfile:\n",
    "                print('Архив автоматически создан')\n",
    "        if not zf.is_zipfile(pathzip):\n",
    "            print('Архив не является zip файлом')\n",
    "            return\n",
    "        with zf.ZipFile(pathzip, 'w') as zfile:\n",
    "            zfile.write(path)\n",
    "            print('Success')\n",
    "    elif action == '2':\n",
    "        pathzip = input('Введите путь к архиву > ')\n",
    "        if os.path.isfile(pathzip) and zf.is_zipfile(pathzip):\n",
    "            with zf.ZipFile(pathzip) as zfile:\n",
    "                print('Файлы в архиве:')\n",
    "                zfile.printdir()\n",
    "                path = input('Введите файл который надо разархивировать > ')\n",
    "                try:\n",
    "                    zfile.extract(path)\n",
    "                except KeyError:\n",
    "                    print('Такого файла в архиве нет')\n",
    "                else:\n",
    "                    with open(path, 'r') as file:\n",
    "                        print(file.read())\n",
    "        else:\n",
    "            print('Error: архива не существует, создайте его')\n",
    "    elif action == '3':\n",
    "        pathzip = input('Введите путь к архиву > ')\n",
    "        if os.path.isfile(pathzip):\n",
    "            os.remove(pathzip)\n",
    "            print('Success')\n",
    "        else:\n",
    "            print('Error: архива не существует')\n",
    "    else:\n",
    "        print('Error: инструкции не существует')\n",
    "\n",
    "\n",
    "zip_file()\n"
   ]
  }
 ],
 "metadata": {
  "kernelspec": {
   "display_name": "Python 3 (ipykernel)",
   "language": "python",
   "name": "python3"
  },
  "language_info": {
   "codemirror_mode": {
    "name": "ipython",
    "version": 3
   },
   "file_extension": ".py",
   "mimetype": "text/x-python",
   "name": "python",
   "nbconvert_exporter": "python",
   "pygments_lexer": "ipython3",
   "version": "3.9.0"
  }
 },
 "nbformat": 4,
 "nbformat_minor": 5
}
