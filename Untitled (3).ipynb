{
 "cells": [
  {
   "cell_type": "markdown",
   "id": "3ed5433f",
   "metadata": {},
   "source": [
    "## Работа с простыми файлами"
   ]
  },
  {
   "cell_type": "code",
   "execution_count": 33,
   "id": "85077e9c",
   "metadata": {},
   "outputs": [
    {
     "name": "stdout",
     "output_type": "stream",
     "text": [
      "Что хотите сделать?\n",
      "0 - создать файл\n",
      "1 - записать в файл\n",
      "2 - прочитать из файла\n",
      "3 - удалить файл\n",
      "2\n",
      "Введите путь к вашему файлу > file.json\n",
      "\"qwertyuiop\"\n"
     ]
    }
   ],
   "source": [
    "import os\n",
    "def simple_file():\n",
    "    action = input('Что хотите сделать?\\n0 - создать файл\\n1 - записать в файл\\n2 - прочитать из файла\\n3 - удалить файл\\n')\n",
    "    path = input('Введите путь к вашему файлу > ')\n",
    "    if action == '0':\n",
    "        if os.path.isfile(path):\n",
    "            print('Файл уже существует, работайте с ним')\n",
    "        else:\n",
    "            with open(path, 'w') as file:\n",
    "                print('Success')\n",
    "    elif action == '1':\n",
    "        if not os.path.isfile(path):\n",
    "            print('Файл автоматически создан')\n",
    "        with open(path, 'w') as file:\n",
    "            file.write(input('Введите что записать в файл > '))\n",
    "    elif action == '2':\n",
    "        if os.path.isfile(path):\n",
    "            with open(path, 'r') as file:\n",
    "                print(file.read())\n",
    "        else:\n",
    "            print('Error: файла не существует, создайте его')\n",
    "    elif action == '3':\n",
    "        if os.path.isfile(path):\n",
    "            os.remove(path)\n",
    "            print('Success')\n",
    "        else:\n",
    "            print('Error: файла не существует')\n",
    "    else:\n",
    "        print('Error: инструкции не существует')\n",
    "simple_file()"
   ]
  },
  {
   "cell_type": "markdown",
   "id": "04c593c1",
   "metadata": {},
   "source": [
    "## Работа с json"
   ]
  },
  {
   "cell_type": "code",
   "execution_count": 43,
   "id": "dfb71efa",
   "metadata": {},
   "outputs": [
    {
     "name": "stdout",
     "output_type": "stream",
     "text": [
      "Что хотите сделать?\n",
      "0 - создать файл\n",
      "1 - записать в файл\n",
      "2 - прочитать из файла\n",
      "3 - удалить файл\n",
      "3\n",
      "Введите путь к вашему файлу > file.txt\n",
      "Success\n"
     ]
    }
   ],
   "source": [
    "import json\n",
    "def json_file():\n",
    "    action = input('Что хотите сделать?\\n0 - создать файл\\n1 - записать в файл\\n2 - прочитать из файла\\n3 - удалить файл\\n')\n",
    "    path = input('Введите путь к вашему файлу > ')\n",
    "    if action == '0':\n",
    "        if os.path.isfile(path):\n",
    "            print('Файл уже существует, работайте с ним')\n",
    "        else:\n",
    "            with open(path, 'w') as file:\n",
    "                print('Success')\n",
    "    elif action == '1':\n",
    "        if not os.path.isfile(path):\n",
    "            print('Файл автоматически создан')\n",
    "        with open(path, 'w') as file:\n",
    "            string = input('Введите что записать в файл > ')\n",
    "            file.write(json.dumps(string))\n",
    "    elif action == '2':\n",
    "        if os.path.isfile(path):\n",
    "            with open(path, 'r') as file:\n",
    "                print(json.loads(file.read()))\n",
    "        else:\n",
    "            print('Error: файла не существует, создайте его')\n",
    "    elif action == '3':\n",
    "        if os.path.isfile(path):\n",
    "            os.remove(path)\n",
    "            print('Success')\n",
    "        else:\n",
    "            print('Error: файла не существует')\n",
    "    else:\n",
    "        print('Error: инструкции не существует')\n",
    "json_file()"
   ]
  },
  {
   "cell_type": "code",
   "execution_count": null,
   "id": "ae33ee69",
   "metadata": {},
   "outputs": [],
   "source": []
  }
 ],
 "metadata": {
  "kernelspec": {
   "display_name": "Python 3",
   "language": "python",
   "name": "python3"
  },
  "language_info": {
   "codemirror_mode": {
    "name": "ipython",
    "version": 3
   },
   "file_extension": ".py",
   "mimetype": "text/x-python",
   "name": "python",
   "nbconvert_exporter": "python",
   "pygments_lexer": "ipython3",
   "version": "3.8.8"
  }
 },
 "nbformat": 4,
 "nbformat_minor": 5
}
